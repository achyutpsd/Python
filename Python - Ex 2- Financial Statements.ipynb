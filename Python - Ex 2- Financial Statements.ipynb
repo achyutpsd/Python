{
 "cells": [
  {
   "cell_type": "code",
   "execution_count": 1,
   "metadata": {},
   "outputs": [],
   "source": [
    "#Data \n",
    "revenue = [14574.49, 7606.46, 8611.41, 9175.41, 8058.65, 8105.44, 11496.28, 9766.09, 10305.32, 14379.96, 10713.97, 15433.50]\n",
    "expenses = [12051.82, 5695.07, 12319.20, 12089.72, 8658.57, 840.20, 3285.73, 5821.12, 6976.93, 16618.61, 10054.37, 3803.96]"
   ]
  },
  {
   "cell_type": "code",
   "execution_count": null,
   "metadata": {},
   "outputs": [],
   "source": [
    "#solution  without hint"
   ]
  },
  {
   "cell_type": "code",
   "execution_count": 2,
   "metadata": {},
   "outputs": [],
   "source": [
    "import numpy as np"
   ]
  },
  {
   "cell_type": "code",
   "execution_count": 3,
   "metadata": {},
   "outputs": [],
   "source": [
    "#profits for each month"
   ]
  },
  {
   "cell_type": "code",
   "execution_count": 86,
   "metadata": {},
   "outputs": [
    {
     "name": "stdout",
     "output_type": "stream",
     "text": [
      "Profit before tax\n",
      "[2523.0, 1911.0, -3708.0, -2914.0, -600.0, 7265.0, 8211.0, 3945.0, 3328.0, -2239.0, 660.0, 11630.0]\n",
      "Profit after tax\n",
      "[1766.0, 1338.0, -2596.0, -2040.0, -420.0, 5086.0, 5748.0, 2762.0, 2330.0, -1567.0, 462.0, 8141.0]\n",
      "Profit marghin for months\n",
      "[12.0, 18.0, -30.0, -22.0, -5.0, 63.0, 50.0, 28.0, 23.0, -11.0, 4.0, 53.0]\n",
      "Mean of the year\n",
      "1750.8333333333333\n",
      "Good and bad months of the year\n",
      "['Good', 'Bad', 'Bad', 'Bad', 'Bad', 'Good', 'Good', 'Good', 'Good', 'Bad', 'Bad', 'Good']\n",
      "Best month of the year  12\n",
      "Worst month of the year  3\n"
     ]
    }
   ],
   "source": [
    "profitsforeachmonth = []\n",
    "profitaftertaxrate = []\n",
    "profitmarginformonts = []\n",
    "Goodbadmonths = []\n",
    "\n",
    "for counter in range(0,len(expenses)):\n",
    "    profit = np.round(revenue[counter] - expenses[counter])\n",
    "    profitTax = np.round(profit - profit * 0.30)\n",
    "    profitMargin =profitTax / revenue[counter]\n",
    "    profitsforeachmonth.append(profit)\n",
    "    profitaftertaxrate.append(profitTax)\n",
    "    profitmarginformonts.append(np.round(profitMargin*100))\n",
    "print(\"Profit before tax\")\n",
    "print(profitsforeachmonth)\n",
    "print(\"Profit after tax\")\n",
    "print(profitaftertaxrate)\n",
    "print(\"Profit marghin for months\")\n",
    "print(profitmarginformonts)\n",
    "meanofYear =sum(profitaftertaxrate)/len(profitaftertaxrate) #np.mean(revenue)\n",
    "for counter in range(0,len(profitaftertaxrate)):\n",
    "    if(profitaftertaxrate[counter] > meanofYear):\n",
    "        Goodbadmonths.append(\"Good\")\n",
    "    else:\n",
    "        Goodbadmonths.append(\"Bad\")\n",
    "print(\"Mean of the year\")\n",
    "print(meanofYear)\n",
    "print(\"Good and bad months of the year\")\n",
    "print(Goodbadmonths)\n",
    "maxofyear = (np.max(profitaftertaxrate))\n",
    "minofyear = (np.min(profitaftertaxrate))\n",
    "bestmonth = profitaftertaxrate.index(np.max(profitaftertaxrate))+1\n",
    "worstmonth = profitaftertaxrate.index(np.min(profitaftertaxrate))+1\n",
    "print(\"Best month of the year \", bestmonth)\n",
    "print(\"Worst month of the year \",worstmonth)"
   ]
  },
  {
   "cell_type": "code",
   "execution_count": 53,
   "metadata": {},
   "outputs": [],
   "source": [
    "# solution with hint"
   ]
  },
  {
   "cell_type": "code",
   "execution_count": 112,
   "metadata": {},
   "outputs": [
    {
     "name": "stdout",
     "output_type": "stream",
     "text": [
      "Revenue [14, 7, 8, 9, 8, 8, 11, 9, 10, 14, 10, 15]\n",
      "Expenses [12, 5, 12, 12, 8, 0, 3, 5, 6, 16, 10, 3]\n",
      "Profit before tax [2, 1, -3, -2, 0, 7, 8, 3, 3, -2, 0, 11]\n",
      "Profit after tax [1, 1, -2, -2, 0, 5, 5, 2, 2, -1, 0, 8]\n",
      "Profit marghin for months\n",
      "[12.12, 17.59, -30.14, -22.23, -5.21, 62.74, 49.99, 28.28, 22.61, -10.9, 4.31, 52.75]\n",
      "Mean of the year\n",
      "1750.6816666666666\n",
      "Good and bad months of the year\n",
      "['Good', 'Bad', 'Bad', 'Bad', 'Bad', 'Good', 'Good', 'Good', 'Good', 'Bad', 'Bad', 'Good']\n",
      "Best month of the year  12\n",
      "Worst month of the year  3\n"
     ]
    }
   ],
   "source": [
    "profitsforeachmonth = []\n",
    "profitaftertaxrate = []\n",
    "profitmarginformonts = []\n",
    "Goodbadmonths = []\n",
    "\n",
    "for counter in range(0,len(expenses)):\n",
    "    profit = revenue[counter] - expenses[counter]\n",
    "    profitsforeachmonth.append(profit)\n",
    "taxforprofit = [np.round(counter * 0.3,2)for counter in profitsforeachmonth]\n",
    "for counter in range(0,len(profitsforeachmonth)):\n",
    "    profitaftertaxrate.append(profitsforeachmonth[counter]-taxforprofit[counter])\n",
    "for counter in range(0,len(profitaftertaxrate)):\n",
    "    profitmarginformonts.append(profitaftertaxrate[counter]/revenue[counter])\n",
    "profitmarginformonts = [round((counter * 100),2) for counter in profitmarginformonts]\n",
    "\n",
    "\n",
    "revenue_1000 = [int(round(counter/1000,2)) for counter in revenue]\n",
    "print(\"Revenue\",revenue_1000)\n",
    "expenses_1000 = [int(round(counter/1000,2))for counter in expenses]\n",
    "print(\"Expenses\",expenses_1000)\n",
    "profitsforeachmonth_1000 = [int(round(counter/1000,2)) for counter in profitsforeachmonth]\n",
    "print(\"Profit before tax\",profitsforeachmonth_1000)\n",
    "profitaftertaxrate_1000 = [int(round(counter/1000,2)) for counter in profitaftertaxrate]\n",
    "print(\"Profit after tax\",profitaftertaxrate_1000)\n",
    "print(\"Profit marghin for months\")\n",
    "print(profitmarginformonts)\n",
    "meanofYear =sum(profitaftertaxrate)/len(profitaftertaxrate) #np.mean(revenue)\n",
    "for counter in range(0,len(profitaftertaxrate)):\n",
    "    if(profitaftertaxrate[counter] > meanofYear):\n",
    "        Goodbadmonths.append(\"Good\")\n",
    "    else:\n",
    "        Goodbadmonths.append(\"Bad\")\n",
    "print(\"Mean of the year\")\n",
    "print(meanofYear)\n",
    "print(\"Good and bad months of the year\")\n",
    "print(Goodbadmonths)\n",
    "maxofyear = (np.max(profitaftertaxrate))\n",
    "minofyear = (np.min(profitaftertaxrate))\n",
    "bestmonth = profitaftertaxrate.index(np.max(profitaftertaxrate))+1\n",
    "worstmonth = profitaftertaxrate.index(np.min(profitaftertaxrate))+1\n",
    "print(\"Best month of the year \", bestmonth)\n",
    "print(\"Worst month of the year \",worstmonth)\n"
   ]
  },
  {
   "cell_type": "code",
   "execution_count": 114,
   "metadata": {},
   "outputs": [
    {
     "data": {
      "text/plain": [
       "[2, 3, 4, 5, 6, 7, 8, 9, 10]"
      ]
     },
     "execution_count": 114,
     "metadata": {},
     "output_type": "execute_result"
    }
   ],
   "source": [
    "list(range(2,11))"
   ]
  },
  {
   "cell_type": "code",
   "execution_count": null,
   "metadata": {},
   "outputs": [],
   "source": []
  }
 ],
 "metadata": {
  "kernelspec": {
   "display_name": "Python 3",
   "language": "python",
   "name": "python3"
  },
  "language_info": {
   "codemirror_mode": {
    "name": "ipython",
    "version": 3
   },
   "file_extension": ".py",
   "mimetype": "text/x-python",
   "name": "python",
   "nbconvert_exporter": "python",
   "pygments_lexer": "ipython3",
   "version": "3.7.1"
  }
 },
 "nbformat": 4,
 "nbformat_minor": 2
}
