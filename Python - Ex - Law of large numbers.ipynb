{
 "cells": [
  {
   "cell_type": "code",
   "execution_count": 13,
   "metadata": {},
   "outputs": [],
   "source": [
    "import numpy as np\n",
    "from numpy.random import randn"
   ]
  },
  {
   "cell_type": "code",
   "execution_count": 66,
   "metadata": {},
   "outputs": [
    {
     "data": {
      "text/plain": [
       "1.6883621818232166"
      ]
     },
     "execution_count": 66,
     "metadata": {},
     "output_type": "execute_result"
    }
   ],
   "source": [
    "randn()"
   ]
  },
  {
   "cell_type": "code",
   "execution_count": 129,
   "metadata": {},
   "outputs": [
    {
     "name": "stdout",
     "output_type": "stream",
     "text": [
      "Total appearance for 120 samples 83\n",
      "Total appearance for 240 samples 163\n",
      "Total appearance for 360 samples 259\n"
     ]
    }
   ],
   "source": [
    "samples = 400\n",
    "x = 0;\n",
    "appearance = 0\n",
    "magicnumber = 0\n",
    "for min in range(samples):\n",
    "    while x < 120:\n",
    "        x = x+1\n",
    "        magicnumber = randn()\n",
    "        if magicnumber >= -1 and magicnumber < 1:\n",
    "            appearance = appearance+1\n",
    "print (\"Total appearance for 120 samples\", appearance)\n",
    "x = 0\n",
    "appearance = 0\n",
    "magicnumber = 0\n",
    "for min in range(samples):\n",
    "    while x < 240:\n",
    "        x = x+1\n",
    "        magicnumber = randn()\n",
    "        if magicnumber >= -1 and magicnumber < 1:\n",
    "            appearance = appearance+1\n",
    "print (\"Total appearance for 240 samples\", appearance)\n",
    "x = 0\n",
    "appearance = 0\n",
    "magicnumber = 0\n",
    "for min in range(samples):\n",
    "    while x < 360:\n",
    "        x = x+1\n",
    "        magicnumber = randn()\n",
    "        if magicnumber >= -1 and magicnumber < 1:\n",
    "            appearance = appearance+1\n",
    "print (\"Total appearance for 360 samples\", appearance)\n"
   ]
  },
  {
   "cell_type": "code",
   "execution_count": 70,
   "metadata": {},
   "outputs": [],
   "source": [
    "#from the author tips"
   ]
  },
  {
   "cell_type": "code",
   "execution_count": 130,
   "metadata": {},
   "outputs": [
    {
     "name": "stdout",
     "output_type": "stream",
     "text": [
      "Number of samples is  10\n",
      "Number of appearances is  70.0 Percent\n",
      "Number of samples is  20\n",
      "Number of appearances is  70.0 Percent\n",
      "Number of samples is  30\n",
      "Number of appearances is  66.66666666666666 Percent\n",
      "Number of samples is  40\n",
      "Number of appearances is  77.5 Percent\n",
      "Number of samples is  1000\n",
      "Number of appearances is  67.60000000000001 Percent\n"
     ]
    }
   ],
   "source": [
    "samples = [10,20,30,40,1000]\n",
    "for n in (samples):\n",
    "    appearance = 0\n",
    "    for num in randn(n):\n",
    "        if num > -1 and num < 1:\n",
    "            appearance = appearance +1\n",
    "    answewr = (appearance / n)*100\n",
    "    print (\"Number of samples is \",n)\n",
    "    print (\"Number of appearances is \",answewr,\"Percent\")\n",
    "    "
   ]
  },
  {
   "cell_type": "code",
   "execution_count": null,
   "metadata": {},
   "outputs": [],
   "source": []
  }
 ],
 "metadata": {
  "kernelspec": {
   "display_name": "Python 3",
   "language": "python",
   "name": "python3"
  },
  "language_info": {
   "codemirror_mode": {
    "name": "ipython",
    "version": 3
   },
   "file_extension": ".py",
   "mimetype": "text/x-python",
   "name": "python",
   "nbconvert_exporter": "python",
   "pygments_lexer": "ipython3",
   "version": "3.7.1"
  }
 },
 "nbformat": 4,
 "nbformat_minor": 2
}
